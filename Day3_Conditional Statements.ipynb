{
 "cells": [
  {
   "attachments": {},
   "cell_type": "markdown",
   "metadata": {},
   "source": [
    "976. Largest Perimeter Triangle\n",
    "\n",
    "Given an integer array nums, return the largest perimeter of a triangle with a non-zero area, formed from three of these lengths. If it is impossible to form any triangle of a non-zero area, return 0."
   ]
  },
  {
   "cell_type": "code",
   "execution_count": null,
   "metadata": {},
   "outputs": [],
   "source": [
    "# reverse sort the list -> from largest to smallest\n",
    "# check if the largest 3 numbers can form a triangle\n",
    "# if yes, return the sum of the 3 numbers\n",
    "# if no, check the next 3 numbers until the end of the list\n",
    "# if no triangle can be formed, return 0\n",
    "class Solution:\n",
    "    def largestPerimeter(self, nums: List[int]) -> int:\n",
    "        maxp = 0\n",
    "        nums.sort(reverse = True)\n",
    "        for i in range(len(nums)-2):\n",
    "            if nums[i] < nums[i+1] + nums[i+2]:\n",
    "                return nums[i]+nums[i+1]+nums[i+2]\n",
    "        return 0"
   ]
  },
  {
   "attachments": {},
   "cell_type": "markdown",
   "metadata": {},
   "source": [
    "1779. Find Nearest Point That Has the Same X or Y Coordinate\n",
    "\n",
    "You are given two integers, x and y, which represent your current location on a Cartesian grid: (x, y). You are also given an array points where each points[i] = [ai, bi] represents that a point exists at (ai, bi). A point is valid if it shares the same x-coordinate or the same y-coordinate as your location.\n",
    "\n",
    "Return the index (0-indexed) of the valid point with the smallest Manhattan distance from your current location. If there are multiple, return the valid point with the smallest index. If there are no valid points, return -1.\n",
    "\n",
    "The Manhattan distance between two points (x1, y1) and (x2, y2) is abs(x1 - x2) + abs(y1 - y2)."
   ]
  },
  {
   "cell_type": "code",
   "execution_count": null,
   "metadata": {},
   "outputs": [],
   "source": [
    "class Solution:\n",
    "    def nearestValidPoint(self, x: int, y: int, points: List[List[int]]) -> int:\n",
    "        min_dis = float('inf')\n",
    "        min_index = -1\n",
    "        for i, (a, b) in enumerate(points):\n",
    "            if a == x or b == y:\n",
    "                dis = abs(a-x) + abs(b-y)\n",
    "                if dis < min_dis:\n",
    "                    min_dis = dis\n",
    "                    min_index = i\n",
    "        return min_index"
   ]
  }
 ],
 "metadata": {
  "language_info": {
   "name": "python"
  },
  "orig_nbformat": 4
 },
 "nbformat": 4,
 "nbformat_minor": 2
}
