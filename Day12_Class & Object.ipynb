{
 "cells": [
  {
   "attachments": {},
   "cell_type": "markdown",
   "metadata": {},
   "source": [
    "1603. Design Parking System\n",
    "\n",
    "Design a parking system for a parking lot. The parking lot has three kinds of parking spaces: big, medium, and small, with a fixed number of slots for each size.\n",
    "\n",
    "Implement the ParkingSystem class:\n",
    "\n",
    "ParkingSystem(int big, int medium, int small) Initializes object of the ParkingSystem class. The number of slots for each parking space are given as part of the constructor.\n",
    "bool addCar(int carType) Checks whether there is a parking space of carType for the car that wants to get into the parking lot. carType can be of three kinds: big, medium, or small, which are represented by 1, 2, and 3 respectively. A car can only park in a parking space of its carType. If there is no space available, return false, else park the car in that size space and return true."
   ]
  },
  {
   "cell_type": "code",
   "execution_count": null,
   "metadata": {},
   "outputs": [],
   "source": [
    "class ParkingSystem:\n",
    "\n",
    "    def __init__(self, big: int, medium: int, small: int):\n",
    "        self.dic = {1: big, 2: medium, 3: small}        \n",
    "\n",
    "    def addCar(self, carType: int) -> bool:\n",
    "        if self.dic[carType]:\n",
    "            if self.dic[carType] > 0:\n",
    "                self.dic[carType] -= 1\n",
    "                return True\n",
    "            else:return False\n"
   ]
  },
  {
   "cell_type": "code",
   "execution_count": null,
   "metadata": {},
   "outputs": [],
   "source": [
    "class ParkingSystem:\n",
    "\n",
    "    def __init__(self, big, medium, small):\n",
    "        #We store the parking space available for each car category in the respective variable\n",
    "        self.big = big\n",
    "        self.medium = medium \n",
    "        self.small = small\n",
    "\n",
    "    def addCar(self, carType):\n",
    "        #checking if the incoming car is big and if parking space is available for big cars\n",
    "        if carType == 1 and self.big > 0:\n",
    "            self.big -=1\n",
    "            return True\n",
    "        #checking if the incoming car is medium and if parking space is available for medium cars\n",
    "        elif carType == 2 and self.medium > 0:\n",
    "            self.medium -=1\n",
    "            return True \n",
    "        #checking if the incoming car is small and if parking space is available for small cars\n",
    "        elif carType == 3 and self.small > 0:\n",
    "            self.small -=1\n",
    "            return True\n",
    "        #If the car isnt either small,medium,big or if the parking space isnt available then we return false\n",
    "        else:\n",
    "            return False\n",
    "            \n",
    "\n",
    "\n",
    "# Your ParkingSystem object will be instantiated and called as such:\n",
    "# obj = ParkingSystem(big, medium, small)\n",
    "# param_1 = obj.addCar(carType)"
   ]
  },
  {
   "attachments": {},
   "cell_type": "markdown",
   "metadata": {},
   "source": [
    "303. Range Sum Query - Immutable\n",
    "\n",
    "Given an integer array nums, handle multiple queries of the following type:\n",
    "\n",
    "Calculate the sum of the elements of nums between indices left and right inclusive where left <= right.\n",
    "Implement the NumArray class:\n",
    "\n",
    "NumArray(int[] nums) Initializes the object with the integer array nums.\n",
    "int sumRange(int left, int right) Returns the sum of the elements of nums between indices left and right inclusive (i.e. nums[left] + nums[left + 1] + ... + nums[right])."
   ]
  },
  {
   "cell_type": "code",
   "execution_count": null,
   "metadata": {},
   "outputs": [],
   "source": [
    "class NumArray:\n",
    "\n",
    "    def __init__(self, nums: List[int]):\n",
    "        self.list = nums\n",
    "\n",
    "    def sumRange(self, left: int, right: int) -> int:\n",
    "        output = 0\n",
    "        for i in range(left, right+1):\n",
    "            output += self.list[i]\n",
    "        return output\n",
    "\n",
    "\n",
    "\n",
    "# Your NumArray object will be instantiated and called as such:\n",
    "# obj = NumArray(nums)\n",
    "# param_1 = obj.sumRange(left,right)"
   ]
  },
  {
   "cell_type": "code",
   "execution_count": null,
   "metadata": {},
   "outputs": [],
   "source": [
    "Select tags\n",
    "0/5\n",
    "class NumArray:\n",
    "\n",
    "    def __init__(self, nums: List[int]):\n",
    "        self.list = nums\n",
    "\n",
    "    def sumRange(self, left: int, right: int) -> int:\n",
    "        return sum(self.list[left:right+1])\n"
   ]
  }
 ],
 "metadata": {
  "language_info": {
   "name": "python"
  },
  "orig_nbformat": 4
 },
 "nbformat": 4,
 "nbformat_minor": 2
}
