{
 "cells": [
  {
   "attachments": {},
   "cell_type": "markdown",
   "metadata": {},
   "source": [
    "1523. Count Odd Numbers in an Interval Range\n",
    "\n",
    "Given two non-negative integers low and high. Return the count of odd numbers between low and high (inclusive)."
   ]
  },
  {
   "cell_type": "code",
   "execution_count": null,
   "metadata": {},
   "outputs": [],
   "source": [
    "#low number is odd, then the number of odd numbers is (high-low)//2 +1\n",
    "#low number is even, then the number of odd numbers is (high-low+1)//2\n",
    "\n",
    "class Solution:\n",
    "    def countOdds(self, low: int, high: int) -> int:\n",
    "        if low % 2 == 0:\n",
    "            return (high-low+1)//2\n",
    "        return (high-low)//2 +1"
   ]
  },
  {
   "attachments": {},
   "cell_type": "markdown",
   "metadata": {},
   "source": [
    "1491. Average Salary Excluding the Minimum and Maximum Salary\n",
    "\n",
    "You are given an array of unique integers salary where salary[i] is the salary of the ith employee.\n",
    "\n",
    "Return the average salary of employees excluding the minimum and maximum salary. Answers within 10-5 of the actual answer will be accepted."
   ]
  },
  {
   "cell_type": "code",
   "execution_count": 5,
   "metadata": {},
   "outputs": [
    {
     "name": "stdout",
     "output_type": "stream",
     "text": [
      "1000\n",
      "1 8000\n",
      "2 10000\n",
      "3 13000\n",
      "4 19000\n",
      "4750.0\n"
     ]
    }
   ],
   "source": [
    "#use for loop to check each number in the list, and make sure it is not the min or max number\n",
    "#then add the number to total and count the number of numbers\n",
    "#return total / count\n",
    "#this will ensure that the min and max number will not be counted, even if min(max) number appears twice\n",
    "\n",
    "class Solution:\n",
    "    def average(self, salary: List[int]) -> float:\n",
    "        c = 0\n",
    "        total = 0\n",
    "        for i in range(len(salary)):\n",
    "            if salary[i] != min(salary) and salary[i] != max(salary):\n",
    "                c = c+1\n",
    "                total = total + salary[i]\n",
    "        return total / c"
   ]
  }
 ],
 "metadata": {
  "kernelspec": {
   "display_name": "base",
   "language": "python",
   "name": "python3"
  },
  "language_info": {
   "codemirror_mode": {
    "name": "ipython",
    "version": 3
   },
   "file_extension": ".py",
   "mimetype": "text/x-python",
   "name": "python",
   "nbconvert_exporter": "python",
   "pygments_lexer": "ipython3",
   "version": "3.10.9"
  },
  "orig_nbformat": 4
 },
 "nbformat": 4,
 "nbformat_minor": 2
}
