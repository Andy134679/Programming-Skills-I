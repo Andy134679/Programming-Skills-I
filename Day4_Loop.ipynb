{
 "cells": [
  {
   "attachments": {},
   "cell_type": "markdown",
   "metadata": {},
   "source": [
    "1822. Sign of the Product of an Array\n",
    "\n",
    "There is a function signFunc(x) that returns:\n",
    "\n",
    "1 if x is positive.\n",
    "-1 if x is negative.\n",
    "0 if x is equal to 0.\n",
    "You are given an integer array nums. Let product be the product of all values in the array nums.\n",
    "\n",
    "Return signFunc(product)."
   ]
  },
  {
   "cell_type": "code",
   "execution_count": null,
   "metadata": {},
   "outputs": [],
   "source": [
    "class Solution:\n",
    "    def arraySign(self, nums: List[int]) -> int:\n",
    "        t = 1\n",
    "        for i in nums:\n",
    "            t = t*i\n",
    "        if t > 0:\n",
    "            return 1\n",
    "        elif t < 0:\n",
    "            return -1\n",
    "        else: return 0"
   ]
  },
  {
   "cell_type": "code",
   "execution_count": null,
   "metadata": {},
   "outputs": [],
   "source": [
    "class Solution:\n",
    "    def arraySign(self, nums: List[int]) -> int:\n",
    "        t = 1\n",
    "        for i in nums:\n",
    "            if i == 0: return 0\n",
    "            if i < 0: t *= -1\n",
    "        return t"
   ]
  },
  {
   "attachments": {},
   "cell_type": "markdown",
   "metadata": {},
   "source": [
    "1502. Can Make Arithmetic Progression From Sequence\n",
    "\n",
    "A sequence of numbers is called an arithmetic progression if the difference between any two consecutive elements is the same.\n",
    "\n",
    "Given an array of numbers arr, return true if the array can be rearranged to form an arithmetic progression. Otherwise, return false."
   ]
  },
  {
   "cell_type": "code",
   "execution_count": null,
   "metadata": {},
   "outputs": [],
   "source": [
    "class Solution:\n",
    "    def canMakeArithmeticProgression(self, arr: List[int]) -> bool:\n",
    "        arr.sort()\n",
    "        for i in range(len(arr)-2):\n",
    "            if arr[i+1] - arr[i] != arr[i+2] - arr[i+1]:\n",
    "                return False\n",
    "        return True"
   ]
  },
  {
   "cell_type": "code",
   "execution_count": null,
   "metadata": {},
   "outputs": [],
   "source": [
    "class Solution:\n",
    "    def canMakeArithmeticProgression(self, arr: List[int]) -> bool:\n",
    "        arr.sort()\n",
    "        return len(set(arr[i-1] - arr[i] for i in range(1, len(arr)))) == 1"
   ]
  },
  {
   "attachments": {},
   "cell_type": "markdown",
   "metadata": {},
   "source": [
    "202. Happy Number\n",
    "\n",
    "Write an algorithm to determine if a number n is happy.\n",
    "\n",
    "A happy number is a number defined by the following process:\n",
    "\n",
    "Starting with any positive integer, replace the number by the sum of the squares of its digits.\n",
    "Repeat the process until the number equals 1 (where it will stay), or it loops endlessly in a cycle which does not include 1.\n",
    "Those numbers for which this process ends in 1 are happy.\n",
    "Return true if n is a happy number, and false if not."
   ]
  },
  {
   "cell_type": "code",
   "execution_count": null,
   "metadata": {},
   "outputs": [],
   "source": [
    "class Solution:\n",
    "    def isHappy(self, n: int) -> bool:\n",
    "        s = set()\n",
    "        while n != 1:\n",
    "            if n in s: return False\n",
    "            s.add(n)\n",
    "            n = sum([int(i) ** 2 for i in str(n)])\n",
    "        return True      "
   ]
  },
  {
   "attachments": {},
   "cell_type": "markdown",
   "metadata": {},
   "source": [
    "1790. Check if One String Swap Can Make Strings Equal\n",
    "\n",
    "You are given two strings s1 and s2 of equal length. A string swap is an operation where you choose two indices in a string (not necessarily different) and swap the characters at these indices.\n",
    "\n",
    "Return true if it is possible to make both strings equal by performing at most one string swap on exactly one of the strings. Otherwise, return false."
   ]
  },
  {
   "cell_type": "code",
   "execution_count": null,
   "metadata": {},
   "outputs": [],
   "source": [
    "class Solution:\n",
    "    def areAlmostEqual(self, s1: str, s2: str) -> bool:\n",
    "        if s1 == s2: return True\n",
    "        for i in range(len(s1)):\n",
    "            for j in range(1, len(s1)):\n",
    "                n = list(s1)\n",
    "                n[i] = s1[j]\n",
    "                n[j] = s1[i]\n",
    "                n = ''.join(n)\n",
    "                if n == s2:\n",
    "                    return True\n",
    "        return False"
   ]
  },
  {
   "cell_type": "code",
   "execution_count": null,
   "metadata": {},
   "outputs": [],
   "source": [
    "class Solution:\n",
    "    def areAlmostEqual(self, s1: str, s2: str) -> bool:\n",
    "        if s1 == s2:\n",
    "            return True\n",
    "        #if sorted s1 and s2 are not equal, then they are not equal (must have same characters)\n",
    "        if sorted(s1) != sorted(s2):\n",
    "            return False\n",
    "        count = 0\n",
    "        for i in range(len(s1)):\n",
    "            if s1[i] != s2[i]:\n",
    "                count+=1\n",
    "        if count != 2:\n",
    "            return False\n",
    "        return True"
   ]
  }
 ],
 "metadata": {
  "kernelspec": {
   "display_name": "base",
   "language": "python",
   "name": "python3"
  },
  "language_info": {
   "codemirror_mode": {
    "name": "ipython",
    "version": 3
   },
   "file_extension": ".py",
   "mimetype": "text/x-python",
   "name": "python",
   "nbconvert_exporter": "python",
   "pygments_lexer": "ipython3",
   "version": "3.10.9"
  },
  "orig_nbformat": 4
 },
 "nbformat": 4,
 "nbformat_minor": 2
}
