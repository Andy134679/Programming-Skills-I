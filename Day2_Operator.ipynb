{
 "cells": [
  {
   "attachments": {},
   "cell_type": "markdown",
   "metadata": {},
   "source": [
    "191. Number of 1 Bits\n",
    "\n",
    "Write a function that takes the binary representation of an unsigned integer and returns the number of '1' bits it has (also known as the Hamming weight)."
   ]
  },
  {
   "cell_type": "code",
   "execution_count": null,
   "metadata": {},
   "outputs": [],
   "source": [
    "#translate the number into binary and loop through the string to count the number of 1\n",
    "class Solution:\n",
    "    def hammingWeight(self, n: int) -> int:\n",
    "        s = str(bin(n))\n",
    "        c = 0\n",
    "        for i in s:\n",
    "            if i == '1':\n",
    "                c = c+1\n",
    "        return c"
   ]
  },
  {
   "attachments": {},
   "cell_type": "markdown",
   "metadata": {},
   "source": [
    "1281. Subtract the Product and Sum of Digits of an Integer\n",
    "\n",
    "Given an integer number n, return the difference between the product of its digits and the sum of its digits."
   ]
  },
  {
   "cell_type": "code",
   "execution_count": null,
   "metadata": {},
   "outputs": [],
   "source": [
    "#transfer input int to str, and loop through the string to get the sums and product value of the input number\n",
    "class Solution:\n",
    "    def subtractProductAndSum(self, n: int) -> int:\n",
    "        x = str(n)\n",
    "        prod = int(x[0])\n",
    "        sums = int(x[0])\n",
    "        for i in range(len(x)-1):\n",
    "            prod = prod * int(x[i+1])\n",
    "            sums = sums + int(x[i+1])\n",
    "        return prod-sums"
   ]
  }
 ],
 "metadata": {
  "kernelspec": {
   "display_name": "base",
   "language": "python",
   "name": "python3"
  },
  "language_info": {
   "codemirror_mode": {
    "name": "ipython",
    "version": 3
   },
   "file_extension": ".py",
   "mimetype": "text/x-python",
   "name": "python",
   "nbconvert_exporter": "python",
   "pygments_lexer": "ipython3",
   "version": "3.10.9"
  },
  "orig_nbformat": 4
 },
 "nbformat": 4,
 "nbformat_minor": 2
}
