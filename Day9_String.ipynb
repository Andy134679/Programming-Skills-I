{
 "cells": [
  {
   "attachments": {},
   "cell_type": "markdown",
   "metadata": {},
   "source": [
    "709. To Lower Case\n",
    "\n",
    "Given a string s, return the string after replacing every uppercase letter with the same lowercase letter."
   ]
  },
  {
   "cell_type": "code",
   "execution_count": null,
   "metadata": {},
   "outputs": [],
   "source": [
    "class Solution:\n",
    "    def toLowerCase(self, s: str) -> str:\n",
    "        return s.lower()"
   ]
  },
  {
   "attachments": {},
   "cell_type": "markdown",
   "metadata": {},
   "source": [
    "1309. Decrypt String from Alphabet to Integer Mapping\n",
    "\n",
    "You are given a string s formed by digits and '#'. We want to map s to English lowercase characters as follows:\n",
    "\n",
    "Characters ('a' to 'i') are represented by ('1' to '9') respectively.\n",
    "Characters ('j' to 'z') are represented by ('10#' to '26#') respectively.\n",
    "Return the string formed after mapping.\n",
    "\n",
    "The test cases are generated so that a unique mapping will always exist."
   ]
  },
  {
   "cell_type": "code",
   "execution_count": null,
   "metadata": {},
   "outputs": [],
   "source": [
    "class Solution:\n",
    "    def freqAlphabets(self, s: str) -> str:\n",
    "        i = 0\n",
    "        res = ''\n",
    "        while i < len(s):\n",
    "            if len(s) - i > 2 and s[i+2] == \"#\":\n",
    "                res += chr(int(s[i:i+2])+96)\n",
    "                i+=3\n",
    "            else:\n",
    "                res += chr(int(s[i])+96)\n",
    "                i+=1\n",
    "        return res"
   ]
  },
  {
   "attachments": {},
   "cell_type": "markdown",
   "metadata": {},
   "source": [
    "953. Verifying an Alien Dictionary\n",
    "\n",
    "In an alien language, surprisingly, they also use English lowercase letters, but possibly in a different order. The order of the alphabet is some permutation of lowercase letters.\n",
    "\n",
    "Given a sequence of words written in the alien language, and the order of the alphabet, return true if and only if the given words are sorted lexicographically in this alien language."
   ]
  },
  {
   "cell_type": "code",
   "execution_count": null,
   "metadata": {},
   "outputs": [],
   "source": [
    "class Solution:\n",
    "    def isAlienSorted(self, words: List[str], order: str) -> bool:\n",
    "            dict = {}\n",
    "            for i, o in enumerate(order):\n",
    "                dict[o] = i\n",
    "                \n",
    "            for i in range(1,len(words)):\n",
    "                #flag = 1 here means inner loop is break out due to pre less than cur\n",
    "                #flag = 0 here means inner loop done iteration but two strings length are not equal\n",
    "                pre, cur, flag = words[i-1], words[i], 0\n",
    "                for j in range(min(len(pre),len(cur))):\n",
    "                    if dict[pre[j]] < dict[cur[j]]:\n",
    "                        flag = 1\n",
    "                        break\n",
    "                    elif dict[pre[j]] > dict[cur[j]]:\n",
    "                        return False\n",
    "                if not flag and len(pre) > len(cur): \n",
    "                    return False\n",
    "            return True"
   ]
  },
  {
   "cell_type": "code",
   "execution_count": null,
   "metadata": {},
   "outputs": [],
   "source": [
    "class Solution:\n",
    "    def isAlienSorted(self, words: List[str], order: str) -> bool:\n",
    "        return words == sorted(words,key=lambda word:[order.index(c) for c in word])"
   ]
  }
 ],
 "metadata": {
  "kernelspec": {
   "display_name": "base",
   "language": "python",
   "name": "python3"
  },
  "language_info": {
   "codemirror_mode": {
    "name": "ipython",
    "version": 3
   },
   "file_extension": ".py",
   "mimetype": "text/x-python",
   "name": "python",
   "nbconvert_exporter": "python",
   "pygments_lexer": "ipython3",
   "version": "3.10.9"
  },
  "orig_nbformat": 4
 },
 "nbformat": 4,
 "nbformat_minor": 2
}
